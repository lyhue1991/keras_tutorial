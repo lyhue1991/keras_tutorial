{
 "cells": [
  {
   "cell_type": "markdown",
   "metadata": {},
   "source": [
    "# keras 一般流程"
   ]
  },
  {
   "cell_type": "markdown",
   "metadata": {},
   "source": [
    "### 一，Keras简介"
   ]
  },
  {
   "cell_type": "markdown",
   "metadata": {},
   "source": [
    "Keras 是一个用 Python 编写的高级神经网络 API，它能够以 TensorFlow, CNTK, 或者 Theano 作为后端运行。\n",
    "\n",
    "Keras 具有以下优势：\n",
    "\n",
    "简单易用：Keras是为人类而不是为机器设计的 API。它把用户体验放在首要和中心位置。Keras遵循减少认知困难的最佳实践，它提供一致且简单的 API，将常见用例所需的用户操作数量降至最低，并且在用户错误时提供清晰和可操作的反馈。\n",
    "\n",
    "功能强大：Keras同时支持卷积神经网络和循环神经网络，以及两者的组合，它可以在CPU和GPU上无缝运行。Keras不仅提供了构建和训练神经网络模型的高级功能，还提供了模型结果可视化的工具，以及常见的图像和文本数据的预处理工具，另外Keras中还包括一些常用的玩具数据集和一些著名的已经训练好的神经网络模型。\n",
    "\n",
    "高度灵活：用户可以使用Keras的函数式API构建任意结构的神经网络，如多输入多输出结构，残差网络，Inception网络等。通过自定义层和自定义模型，用户可以实现高度定制化的功能。利用Keras的后端backend提供的一些函数用户甚至可以从底层开始实现任意模型。\n",
    "\n",
    "总之，这几乎是一个无懈可击的封装，集极致的体验，强大的功能，无限的灵活性于一身。\n",
    "\n",
    "这就是Keras,你恰好发现了她！\n",
    "\n",
    "目前Keras是github排名第二的开源深度学习框架，也是Kaggle竞赛中使用人数最多的神经网络框架。"
   ]
  },
  {
   "cell_type": "markdown",
   "metadata": {},
   "source": [
    "### 二，使用流程"
   ]
  },
  {
   "cell_type": "markdown",
   "metadata": {},
   "source": [
    "使用Keras进行神经网络实验的一般流程包括：\n",
    "\n",
    "1，准备数据：\n",
    "\n",
    "可以从keras的dataset导入玩具数据集，也可以导入外部数据集，并使用图像，文本，序列等数据预处理工具进行数据预处理。当数据规模较大时，需要使用Sequence等工具构建数据管道以备在训练过程中并行读取。\n",
    "\n",
    "2，构建模型\n",
    "\n",
    "可以使用以下3种方式构建模型：使用Sequential按层顺序构建模型，使用函数式API构建任意结构模型，继承Model基类构建自定义模型。\n",
    "\n",
    "模型由层layer组成，keras中有许多已经定义好的层，用户可以使用backend函数定义Lambda匿名层，\n",
    "此外用户也可以继承Layer层基类构建自定义层。\n",
    "\n",
    "另外，用户也可以将application中已经训练好的模型加载进来，对其进行微调或者将其部分结构作为模型的一部分，模型本身也可以被看成一个层。\n",
    "\n",
    "构建完模型后，需要用compile方法来编译模型，指定优化器，目标函数，评估指标，以及回调函数。\n",
    "\n",
    "可以用summary方法来查看模型的结构和参数数量。也可以用plot_model方法来可视化模型的结构图。\n",
    "如果需要使用tensorboard来对模型结构图及训练过程进行可视化，可以调用tensorboard回调函数。\n",
    "\n",
    "3，训练模型\n",
    "\n",
    "一般情况下可以用模型的fit方法训练模型，当数据集较大时，应当使用内存友好的fit_generator方法训练模型，如果需要细粒度的自定义训练过程，可以用train_on_batch逐批次地训练模型。\n",
    "\n",
    "如果需要使用GPU训练模型，需要安装CUDA和cuDNN以支持相应计算，并安装tensorflow-gpu版本，则可以无缝切换到GPU运行。\n",
    "\n",
    "如果需要使用多个GPU训练模型，可以使用keras.utils.multi_gpu_model创建支持多个GPU同时训练的模型。\n",
    "\n",
    "4，评估模型\n",
    "\n",
    "在通常情况下，训练模型时候指定验证集就可以在训练过程中输出模型的在训练集和验证集的损失和评估指标。然后可以用matplotlib将结果可视化，也可以利用回调函数在tensorboard中进行可视化。如果需要自定义评估指标，可以利用backend接口进行编写。\n",
    "\n",
    "在模型训练完成后，可以用evaluate方法对模型进行评估，当数据集较大时，使用对内存友好的evaluate_generator方法评估模型，如果需要细粒度的评估，可以用test_on_batch在一个批次上评估模型。\n",
    "\n",
    "5，使用模型\n",
    "\n",
    "一般情况下使用模型的predict方法进行预测，当数据集较大时，使用predict_generator方法进行预测。\n",
    "\n",
    "6，保存模型\n",
    "\n",
    "keras可以用模型的save方法保存模型的结构和权重到.h5文件，也可以用save_weight方法只保存模型的权重到.h5文件，也可以用to_json或者to_yaml方法只保存模型的结构到json或者yaml文件。"
   ]
  },
  {
   "cell_type": "markdown",
   "metadata": {},
   "source": [
    "### 三，基本范例"
   ]
  },
  {
   "cell_type": "code",
   "execution_count": null,
   "metadata": {},
   "outputs": [],
   "source": [
    "import keras\n",
    "import tensorflow as tf\n",
    "from keras.models import Sequential\n",
    "from keras import backend as K"
   ]
  },
  {
   "cell_type": "markdown",
   "metadata": {},
   "source": [
    "**1，准备数据**"
   ]
  },
  {
   "cell_type": "code",
   "execution_count": null,
   "metadata": {},
   "outputs": [],
   "source": [
    "from keras import dataset\n",
    "minst = dataset.mi"
   ]
  },
  {
   "cell_type": "code",
   "execution_count": null,
   "metadata": {},
   "outputs": [],
   "source": []
  },
  {
   "cell_type": "code",
   "execution_count": null,
   "metadata": {},
   "outputs": [],
   "source": []
  },
  {
   "cell_type": "code",
   "execution_count": null,
   "metadata": {},
   "outputs": [],
   "source": []
  },
  {
   "cell_type": "code",
   "execution_count": null,
   "metadata": {},
   "outputs": [],
   "source": []
  },
  {
   "cell_type": "code",
   "execution_count": null,
   "metadata": {},
   "outputs": [],
   "source": []
  },
  {
   "cell_type": "code",
   "execution_count": null,
   "metadata": {},
   "outputs": [],
   "source": [
    "keras.layers.Lambda"
   ]
  },
  {
   "cell_type": "code",
   "execution_count": null,
   "metadata": {},
   "outputs": [],
   "source": [
    "keras.applications"
   ]
  },
  {
   "cell_type": "code",
   "execution_count": 4,
   "metadata": {},
   "outputs": [
    {
     "data": {
      "text/plain": [
       "[]"
      ]
     },
     "execution_count": 4,
     "metadata": {},
     "output_type": "execute_result"
    }
   ],
   "source": [
    "K.tensorflow_backend._get_available_gpus()"
   ]
  }
 ],
 "metadata": {
  "kernelspec": {
   "display_name": "Python 3",
   "language": "python",
   "name": "python3"
  },
  "language_info": {
   "codemirror_mode": {
    "name": "ipython",
    "version": 3
   },
   "file_extension": ".py",
   "mimetype": "text/x-python",
   "name": "python",
   "nbconvert_exporter": "python",
   "pygments_lexer": "ipython3",
   "version": "3.6.5"
  }
 },
 "nbformat": 4,
 "nbformat_minor": 2
}
