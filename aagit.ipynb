{
 "cells": [
  {
   "cell_type": "code",
   "execution_count": 1,
   "metadata": {},
   "outputs": [],
   "source": [
    "!git config --global user.name \"lyhue1991\"\n",
    "!git config --global user.email \"lyhue1991@163.com\"\n",
    "\n",
    "# 出现一些类似 warning: LF will be replaced by CRLF in <file-name>. 可启用如下设置。\n",
    "!git config --global core.autocrlf false\n",
    "\n",
    "# 配置打印历史commit的快捷命令\n",
    "!git config --global alias.lg \"log --oneline --graph --all\""
   ]
  },
  {
   "cell_type": "code",
   "execution_count": 2,
   "metadata": {},
   "outputs": [
    {
     "name": "stdout",
     "output_type": "stream",
     "text": [
      "Initialized empty Git repository in F:/NutCloud/PythonFiles/keras_tutorial/.git/\n"
     ]
    }
   ],
   "source": [
    "!git init"
   ]
  },
  {
   "cell_type": "code",
   "execution_count": 3,
   "metadata": {},
   "outputs": [],
   "source": [
    "!git add -A"
   ]
  },
  {
   "cell_type": "code",
   "execution_count": 4,
   "metadata": {},
   "outputs": [
    {
     "name": "stdout",
     "output_type": "stream",
     "text": [
      "[master (root-commit) 74739ea] init commit\n",
      " 17 files changed, 5747 insertions(+)\n",
      " create mode 100644 .ipynb_checkpoints/1锛宬eras涓�鑸�娴佺▼-checkpoint.ipynb\n",
      " create mode 100644 .ipynb_checkpoints/2锛宬eras涓嶥ense Neural Network-checkpoint.ipynb\n",
      " create mode 100644 .ipynb_checkpoints/3锛宬eras涓嶤onvolutional  Neural  Network-checkpoint.ipynb\n",
      " create mode 100644 .ipynb_checkpoints/4锛宬eras涓嶳ecurrent  Neural Network-checkpoint.ipynb\n",
      " create mode 100644 .ipynb_checkpoints/5锛宬eras涓庢繁搴﹀�︿範鏈�浣冲疄璺�-checkpoint.ipynb\n",
      " create mode 100644 .ipynb_checkpoints/6锛宬eras涓庣敓鎴愬紡娣卞害瀛︿範-checkpoint.ipynb\n",
      " create mode 100644 .ipynb_checkpoints/aagit-checkpoint.ipynb\n",
      " create mode 100644 1锛宬eras涓�鑸�娴佺▼.ipynb\n",
      " create mode 100644 2锛宬eras涓嶥ense Neural Network.ipynb\n",
      " create mode 100644 3锛宬eras涓嶤onvolutional  Neural  Network.ipynb\n",
      " create mode 100644 4锛宬eras涓嶳ecurrent  Neural Network.ipynb\n",
      " create mode 100644 5锛宬eras涓庢繁搴﹀�︿範鏈�浣冲疄璺�.ipynb\n",
      " create mode 100644 6锛宬eras涓庣敓鎴愬紡娣卞害瀛︿範.ipynb\n",
      " create mode 100644 aagit.ipynb\n",
      " create mode 100644 boston_housing_model.h5\n",
      " create mode 100644 model_weights.h5\n",
      " create mode 100644 my_model.h5\n"
     ]
    }
   ],
   "source": [
    "!git commit -m\"init commit \""
   ]
  },
  {
   "cell_type": "code",
   "execution_count": 5,
   "metadata": {},
   "outputs": [],
   "source": [
    "!git remote add origin https://github.com/lyhue1991/keras_tutorial.git"
   ]
  },
  {
   "cell_type": "code",
   "execution_count": null,
   "metadata": {},
   "outputs": [],
   "source": [
    "!git rebase origin/master"
   ]
  },
  {
   "cell_type": "code",
   "execution_count": 6,
   "metadata": {},
   "outputs": [
    {
     "name": "stdout",
     "output_type": "stream",
     "text": [
      "Branch 'master' set up to track remote branch 'master' from 'origin'.\n"
     ]
    },
    {
     "name": "stderr",
     "output_type": "stream",
     "text": [
      "To https://github.com/lyhue1991/keras_tutorial.git\n",
      " * [new branch]      master -> master\n"
     ]
    }
   ],
   "source": [
    "!git push -u origin master "
   ]
  }
 ],
 "metadata": {
  "kernelspec": {
   "display_name": "Python 3",
   "language": "python",
   "name": "python3"
  },
  "language_info": {
   "codemirror_mode": {
    "name": "ipython",
    "version": 3
   },
   "file_extension": ".py",
   "mimetype": "text/x-python",
   "name": "python",
   "nbconvert_exporter": "python",
   "pygments_lexer": "ipython3",
   "version": "3.6.5"
  }
 },
 "nbformat": 4,
 "nbformat_minor": 2
}
